{
 "cells": [
  {
   "cell_type": "code",
   "execution_count": 1,
   "id": "d1a1f0e3",
   "metadata": {},
   "outputs": [],
   "source": [
    "\n",
    "def binary_sort(li):\n",
    "\n",
    "    \n",
    "    sorted1=[li[0]]\n",
    "    uppers=[[]]\n",
    "    \n",
    "    max1=li[0]\n",
    "    max_index=0\n",
    "    \n",
    "    \n",
    "    for i in range(1,len(li)):\n",
    "        \n",
    "        if li[i]>=sorted1[-1]:\n",
    "            \n",
    "            sorted1.append(li[i])\n",
    "            uppers.append([])\n",
    "            continue\n",
    "            \n",
    "        index=binary_search(sorted1,0,len(sorted1)-1,li[i])\n",
    "        \n",
    "        if not uppers[index]:\n",
    "            uppers[index].append(li[i])\n",
    "            continue\n",
    "        \n",
    "        if uppers[index][-1]>=li[i]:\n",
    "            uppers[index].append(li[i])\n",
    "            continue\n",
    "        \n",
    "        \n",
    "        if len(uppers[index])>1:\n",
    "            if uppers[index][-1]<li[i] and uppers[index][-2]>=li[i]:\n",
    "                uppers[index].append(li[i])\n",
    "                uppers[index][-1],uppers[index][-2]=uppers[index][-2],uppers[index][-1]\n",
    "                continue\n",
    "            \n",
    "        \n",
    "        if index==len(sorted1)-1:\n",
    "            sorted1.append(li[i])\n",
    "            uppers.append([])\n",
    "            sorted1[-1],sorted1[-2]=sorted1[-2],sorted1[-1]\n",
    "            continue\n",
    "        \n",
    "        uppers[index+1].append(sorted1[index])\n",
    "        sorted1[index]=li[i]\n",
    "        \n",
    "    \n",
    "    \n",
    "    \n",
    "    l1=[sorted1]\n",
    "    for i in uppers:\n",
    "        if i:\n",
    "            l1.append(i[::-1])\n",
    "    \n",
    "    \n",
    "    \n",
    "    li[:] = mergeK(l1,len(li))\n",
    "    \n",
    "\n",
    "        \n",
    "    \n",
    "    \n",
    "    \n",
    "            "
   ]
  },
  {
   "cell_type": "code",
   "execution_count": 2,
   "id": "4398680e",
   "metadata": {},
   "outputs": [],
   "source": [
    "def mergetwo(a,b): #Merge two sorted lists\n",
    "    (m,n) = (len(a),len(b))\n",
    "    i=j=0\n",
    "    d=[]\n",
    "    \n",
    "    while i<m and j<n:\n",
    "        \n",
    "        if a[i]<=b[j]:\n",
    "            d.append(a[i])\n",
    "            i+=1\n",
    "        else:\n",
    "            d.append(b[j])\n",
    "            j+=1\n",
    "        \n",
    "    while i<m:\n",
    "        d.append(a[i])\n",
    "        i+=1\n",
    "        \n",
    "    while j<n:\n",
    "        d.append(b[j])\n",
    "        j+=1\n",
    "        \n",
    "    return d\n",
    "\n",
    "import time\n",
    "def mergeK(l,length): # Merge  K sorted lists O(NlogK time)\n",
    "    if len(l)==1:\n",
    "        return l[0]\n",
    "    \n",
    "    i=0\n",
    "    while True:\n",
    "        #if i+1\n",
    "            \n",
    "    \n",
    "        l.append(mergetwo(l[i],l[i+1]))\n",
    "        \n",
    "        \n",
    "        i+=2\n",
    "        \n",
    "        if len(l[-1])==length:\n",
    "            return l[-1]\n",
    "    \n",
    "\n",
    "\n",
    "  \n",
    "def binary_search(arr, low, high, x):\n",
    " \n",
    "    # Check base case\n",
    "        if x>=arr[-1]:\n",
    "            return high+1\n",
    "        if x<arr[0]:\n",
    "            return 0\n",
    "        \n",
    "        while True:\n",
    "            mid = (high+low)//2               \n",
    "            if arr[mid]<=x<=arr[mid+1]:\n",
    "                return mid+1\n",
    "            elif arr[mid+1]<x:\n",
    "                low = mid+1\n",
    "            else: \n",
    "                high=mid-1\n",
    "                \n",
    "\n",
    "\n",
    " \n",
    " \n",
    "def partition(l, r, nums):\n",
    "    # Last element will be the pivot and the first element the pointer\n",
    "    pivot = nums[r]\n",
    "    ptr = l\n",
    "    for i in range(l, r):\n",
    "        if nums[i] <= pivot:\n",
    "            # Swapping values smaller than the pivot to the front\n",
    "            x = nums[i]\n",
    "            nums[i]=nums[ptr]\n",
    "            nums[ptr]=x\n",
    "            ptr += 1\n",
    "    # Finally swapping the last element with the pointer indexed number\n",
    "    nums[ptr], nums[r] = nums[r], nums[ptr]\n",
    "    return ptr\n",
    " \n",
    "# With quicksort() function, we will be utilizing the above code to obtain the pointer\n",
    "# at which the left values are all smaller than the number at pointer index and vice versa\n",
    "# for the right values.\n",
    " \n",
    " \n",
    "def quicksort(l, r, nums):\n",
    "    if len(nums) == 1:  # Terminating Condition for recursion. VERY IMPORTANT!\n",
    "        return nums\n",
    "    if l < r:\n",
    "        pi = partition(l, r, nums)\n",
    "        quicksort(l, pi-1, nums)  # Recursively sorting the left values\n",
    "        quicksort(pi+1, r, nums)\n",
    "\n",
    "\n",
    "\n",
    "\n",
    " \n",
    "\n"
   ]
  },
  {
   "cell_type": "code",
   "execution_count": 10,
   "id": "a88d5af2",
   "metadata": {},
   "outputs": [],
   "source": [
    "import random\n",
    "import heapq\n",
    "li = [random.randint(1,1000000) for i in range(1000000)]"
   ]
  },
  {
   "cell_type": "code",
   "execution_count": 11,
   "id": "978df1d2",
   "metadata": {},
   "outputs": [
    {
     "name": "stdout",
     "output_type": "stream",
     "text": [
      "CPU times: total: 3.17 s\n",
      "Wall time: 3.17 s\n"
     ]
    }
   ],
   "source": [
    "%%time\n",
    "binary_sort(li)"
   ]
  },
  {
   "cell_type": "code",
   "execution_count": 12,
   "id": "5c6242ee",
   "metadata": {},
   "outputs": [],
   "source": [
    "li = [random.randint(1,10000) for i in range(1000000)]"
   ]
  },
  {
   "cell_type": "code",
   "execution_count": 13,
   "id": "a6187fae",
   "metadata": {},
   "outputs": [
    {
     "name": "stdout",
     "output_type": "stream",
     "text": [
      "CPU times: total: 2.95 s\n",
      "Wall time: 2.96 s\n"
     ]
    }
   ],
   "source": [
    "%%time\n",
    "binary_sort(li)"
   ]
  },
  {
   "cell_type": "code",
   "execution_count": 17,
   "id": "ecedc675",
   "metadata": {},
   "outputs": [],
   "source": [
    "li = [random.randint(1,1000) for i in range(1000000)]"
   ]
  },
  {
   "cell_type": "code",
   "execution_count": 18,
   "id": "0b3c9b4e",
   "metadata": {},
   "outputs": [
    {
     "name": "stdout",
     "output_type": "stream",
     "text": [
      "CPU times: total: 2.56 s\n",
      "Wall time: 2.55 s\n"
     ]
    }
   ],
   "source": [
    "%%time\n",
    "binary_sort(li)"
   ]
  },
  {
   "cell_type": "code",
   "execution_count": 19,
   "id": "c8552b30",
   "metadata": {},
   "outputs": [],
   "source": [
    "li = [random.randint(1,1000000) for i in range(1000000)]\n",
    "l2=li.copy()"
   ]
  },
  {
   "cell_type": "code",
   "execution_count": 20,
   "id": "af93a555",
   "metadata": {},
   "outputs": [
    {
     "name": "stdout",
     "output_type": "stream",
     "text": [
      "CPU times: total: 3.03 s\n",
      "Wall time: 3.04 s\n"
     ]
    }
   ],
   "source": [
    "%%time\n",
    "binary_sort(li)"
   ]
  },
  {
   "cell_type": "code",
   "execution_count": 21,
   "id": "92ccf465",
   "metadata": {},
   "outputs": [
    {
     "name": "stdout",
     "output_type": "stream",
     "text": [
      "CPU times: total: 2.02 s\n",
      "Wall time: 2.01 s\n"
     ]
    }
   ],
   "source": [
    "%%time \n",
    "quicksort(0,len(l2)-1,l2)"
   ]
  },
  {
   "cell_type": "code",
   "execution_count": 25,
   "id": "5e3672d7",
   "metadata": {},
   "outputs": [],
   "source": [
    "li = [random.randint(1,10000) for i in range(1000000)]\n",
    "l2=li.copy()"
   ]
  },
  {
   "cell_type": "code",
   "execution_count": 26,
   "id": "728e48a5",
   "metadata": {},
   "outputs": [
    {
     "name": "stdout",
     "output_type": "stream",
     "text": [
      "CPU times: total: 2.94 s\n",
      "Wall time: 2.94 s\n"
     ]
    }
   ],
   "source": [
    "%%time\n",
    "binary_sort(li)"
   ]
  },
  {
   "cell_type": "code",
   "execution_count": 27,
   "id": "85b70559",
   "metadata": {},
   "outputs": [
    {
     "name": "stdout",
     "output_type": "stream",
     "text": [
      "CPU times: total: 6.08 s\n",
      "Wall time: 6.08 s\n"
     ]
    }
   ],
   "source": [
    "%%time \n",
    "quicksort(0,len(l2)-1,l2)"
   ]
  },
  {
   "cell_type": "code",
   "execution_count": null,
   "id": "913ae451",
   "metadata": {},
   "outputs": [],
   "source": []
  }
 ],
 "metadata": {
  "kernelspec": {
   "display_name": "Python 3 (ipykernel)",
   "language": "python",
   "name": "python3"
  },
  "language_info": {
   "codemirror_mode": {
    "name": "ipython",
    "version": 3
   },
   "file_extension": ".py",
   "mimetype": "text/x-python",
   "name": "python",
   "nbconvert_exporter": "python",
   "pygments_lexer": "ipython3",
   "version": "3.10.4"
  }
 },
 "nbformat": 4,
 "nbformat_minor": 5
}
