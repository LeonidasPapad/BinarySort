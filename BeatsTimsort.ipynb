{
 "cells": [
  {
   "cell_type": "code",
   "execution_count": 4,
   "id": "c0f6a05c",
   "metadata": {},
   "outputs": [],
   "source": [
    "def mergetwo(a,b): #Merge two sorted lists\n",
    "    (m,n) = (len(a),len(b))\n",
    "    i=j=0\n",
    "    d=[]\n",
    "    \n",
    "    while i<m and j<n:\n",
    "        \n",
    "        if a[i]<=b[j]:\n",
    "            d.append(a[i])\n",
    "            i+=1\n",
    "        else:\n",
    "            d.append(b[j])\n",
    "            j+=1\n",
    "        \n",
    "    while i<m:\n",
    "        d.append(a[i])\n",
    "        i+=1\n",
    "        \n",
    "    while j<n:\n",
    "        d.append(b[j])\n",
    "        j+=1\n",
    "        \n",
    "    return d"
   ]
  },
  {
   "cell_type": "code",
   "execution_count": 5,
   "id": "cc7e5f2e",
   "metadata": {},
   "outputs": [],
   "source": [
    "import time\n",
    "def mergeK(l): # Merge  K sorted lists O(NlogK time)\n",
    "    if len(l)==1:\n",
    "        return l\n",
    "    start_len=0\n",
    "    \n",
    "    for i in l:\n",
    "        start_len+=len(i)\n",
    "    i=0\n",
    "    while True:\n",
    "        #if i+1<len(l):\n",
    "            \n",
    "        \n",
    "        l.append(mergetwo(l[i],l[i+1]))\n",
    "        \n",
    "        \n",
    "        i+=2\n",
    "        \n",
    "        if len(l[-1])==start_len:\n",
    "            return l[-1]\n",
    "    "
   ]
  },
  {
   "cell_type": "code",
   "execution_count": 6,
   "id": "608f631d",
   "metadata": {},
   "outputs": [],
   "source": [
    "#Timsort Code\n",
    "MINIMUM=32\n",
    "def find_minrun(n): \n",
    "  \n",
    "    r = 0\n",
    "    while n >= MINIMUM: \n",
    "        r |= n & 1\n",
    "        n >>= 1\n",
    "    return n + r \n",
    "  \n",
    "def insertion_sort(array, left, right): \n",
    "    for i in range(left+1,right+1):\n",
    "        element = array[i]\n",
    "        j = i-1\n",
    "        while element<array[j] and j>=left :\n",
    "            array[j+1] = array[j]\n",
    "            j -= 1\n",
    "        array[j+1] = element\n",
    "    return array\n",
    "              \n",
    "def merge(array, l, m, r): \n",
    "  \n",
    "    array_length1= m - l + 1\n",
    "    array_length2 = r - m \n",
    "    left = []\n",
    "    right = []\n",
    "    for i in range(0, array_length1): \n",
    "        left.append(array[l + i]) \n",
    "    for i in range(0, array_length2): \n",
    "        right.append(array[m + 1 + i]) \n",
    "  \n",
    "    i=0\n",
    "    j=0\n",
    "    k=l\n",
    "   \n",
    "    while j < array_length2 and  i < array_length1: \n",
    "        if left[i] <= right[j]: \n",
    "            array[k] = left[i] \n",
    "            i += 1\n",
    "  \n",
    "        else: \n",
    "            array[k] = right[j] \n",
    "            j += 1\n",
    "  \n",
    "        k += 1\n",
    "  \n",
    "    while i < array_length1: \n",
    "        array[k] = left[i] \n",
    "        k += 1\n",
    "        i += 1\n",
    "  \n",
    "    while j < array_length2: \n",
    "        array[k] = right[j] \n",
    "        k += 1\n",
    "        j += 1\n",
    "  \n",
    "def tim_sort(array): \n",
    "    n = len(array) \n",
    "    minrun = find_minrun(n) \n",
    "\n",
    "    for start in range(0, n, minrun): \n",
    "        end = min(start + minrun - 1, n - 1) \n",
    "        insertion_sort(array, start, end) \n",
    "   \n",
    "    size = minrun \n",
    "    while size < n: \n",
    "  \n",
    "        for left in range(0, n, 2 * size): \n",
    "  \n",
    "            mid = min(n - 1, left + size - 1) \n",
    "            right = min((left + 2 * size - 1), (n - 1)) \n",
    "            merge(array, left, mid, right) \n",
    "  \n",
    "        size = 2 * size "
   ]
  },
  {
   "cell_type": "code",
   "execution_count": 7,
   "id": "7db0702a",
   "metadata": {},
   "outputs": [],
   "source": [
    "def binary_search(arr, low, high, x):\n",
    " \n",
    "    # Check base case\n",
    "        if x>=arr[-1]:\n",
    "            return high+1\n",
    "        if x<arr[0]:\n",
    "            return 0\n",
    "        \n",
    "        while True:\n",
    "            mid = (high+low)//2               \n",
    "            if arr[mid]<=x<=arr[mid+1]:\n",
    "                return mid+1\n",
    "                  \n",
    "            elif arr[mid+1]<x:\n",
    "                low = mid+1\n",
    "                continue\n",
    "            else: \n",
    "                high=mid-1"
   ]
  },
  {
   "cell_type": "code",
   "execution_count": 8,
   "id": "a91e209c",
   "metadata": {},
   "outputs": [],
   "source": [
    "import random\n",
    "\n",
    "def binarySort(li):\n",
    "    \n",
    "    sorted1=[li[0]]\n",
    "    uppers=[[]]\n",
    "    length=1\n",
    "    \n",
    "\n",
    "\n",
    "    for i in range(1,len(li)):\n",
    "        if li[i]>=sorted1[-1]:\n",
    "            sorted1.append(li[i])\n",
    "            uppers.append([])\n",
    "            continue\n",
    "        \n",
    "         \n",
    "    \n",
    "                \n",
    "        \n",
    "        index = binary_search(sorted1,0,len(sorted1)-1,li[i])\n",
    "        uppers[index].append(sorted1[index])\n",
    "        sorted1[index]=li[i]\n",
    "        \n",
    "            \n",
    "    \n",
    "    \n",
    "    lists=[sorted1]\n",
    "    for i in uppers:\n",
    "        if i:\n",
    "            lists.append(i[::-1])\n",
    "         \n",
    "    li[:]=mergeK(lists)\n",
    "    \n",
    "    \n",
    "    "
   ]
  },
  {
   "cell_type": "code",
   "execution_count": 16,
   "id": "55ba67af",
   "metadata": {},
   "outputs": [],
   "source": [
    "li = [random.randint(0,100) for i in range(1000000)]\n",
    "l2=li.copy()"
   ]
  },
  {
   "cell_type": "code",
   "execution_count": 17,
   "id": "a07af4ab",
   "metadata": {},
   "outputs": [
    {
     "name": "stdout",
     "output_type": "stream",
     "text": [
      "CPU times: total: 3.48 s\n",
      "Wall time: 3.52 s\n"
     ]
    }
   ],
   "source": [
    "%%time\n",
    "binarySort(li)"
   ]
  },
  {
   "cell_type": "code",
   "execution_count": 11,
   "id": "5fcf17a6",
   "metadata": {},
   "outputs": [
    {
     "name": "stdout",
     "output_type": "stream",
     "text": [
      "CPU times: total: 5.41 s\n",
      "Wall time: 5.4 s\n"
     ]
    }
   ],
   "source": [
    "%%time\n",
    "tim_sort(l2)"
   ]
  },
  {
   "cell_type": "code",
   "execution_count": 603,
   "id": "9db7bd40",
   "metadata": {},
   "outputs": [
    {
     "data": {
      "text/plain": [
       "True"
      ]
     },
     "execution_count": 603,
     "metadata": {},
     "output_type": "execute_result"
    }
   ],
   "source": [
    "l2==sorted(l3)"
   ]
  },
  {
   "cell_type": "code",
   "execution_count": 461,
   "id": "5bfce56b",
   "metadata": {},
   "outputs": [],
   "source": [
    "li = [random.randint(0,1000) for i in range(1000000)]\n",
    "l2=li.copy()"
   ]
  },
  {
   "cell_type": "code",
   "execution_count": 462,
   "id": "2dbebf7d",
   "metadata": {},
   "outputs": [
    {
     "name": "stdout",
     "output_type": "stream",
     "text": [
      "CPU times: total: 3.11 s\n",
      "Wall time: 3.11 s\n"
     ]
    }
   ],
   "source": [
    "%%time\n",
    "binarySort(li)"
   ]
  },
  {
   "cell_type": "code",
   "execution_count": 463,
   "id": "059d8cf7",
   "metadata": {},
   "outputs": [
    {
     "name": "stdout",
     "output_type": "stream",
     "text": [
      "CPU times: total: 3.33 s\n",
      "Wall time: 3.32 s\n"
     ]
    }
   ],
   "source": [
    "%%time\n",
    "tim_sort(l2)"
   ]
  },
  {
   "cell_type": "code",
   "execution_count": 14,
   "id": "507f9af0",
   "metadata": {},
   "outputs": [],
   "source": [
    "def partition(l, r, nums):\n",
    "    # Last element will be the pivot and the first element the pointer\n",
    "    pivot = nums[r]\n",
    "    ptr = l\n",
    "    for i in range(l, r):\n",
    "        if nums[i] <= pivot:\n",
    "            # Swapping values smaller than the pivot to the front\n",
    "            x = nums[i]\n",
    "            nums[i]=nums[ptr]\n",
    "            nums[ptr]=x\n",
    "            ptr += 1\n",
    "    # Finally swapping the last element with the pointer indexed number\n",
    "    nums[ptr], nums[r] = nums[r], nums[ptr]\n",
    "    return ptr\n",
    " \n",
    "# With quicksort() function, we will be utilizing the above code to obtain the pointer\n",
    "# at which the left values are all smaller than the number at pointer index and vice versa\n",
    "# for the right values.\n",
    " \n",
    " \n",
    "def quicksort(l, r, nums):\n",
    "    if len(nums) == 1:  # Terminating Condition for recursion. VERY IMPORTANT!\n",
    "        return nums\n",
    "    if l < r:\n",
    "        pi = partition(l, r, nums)\n",
    "        quicksort(l, pi-1, nums)  # Recursively sorting the left values\n",
    "        quicksort(pi+1, r, nums)  # Recursively sorting the right values\n",
    "    "
   ]
  },
  {
   "cell_type": "code",
   "execution_count": null,
   "id": "3f1d8c06",
   "metadata": {},
   "outputs": [],
   "source": [
    "%%time\n",
    "quicksort(0,len(l2)-1,l2)"
   ]
  },
  {
   "cell_type": "code",
   "execution_count": null,
   "id": "d04c3087",
   "metadata": {},
   "outputs": [],
   "source": []
  }
 ],
 "metadata": {
  "kernelspec": {
   "display_name": "Python 3 (ipykernel)",
   "language": "python",
   "name": "python3"
  },
  "language_info": {
   "codemirror_mode": {
    "name": "ipython",
    "version": 3
   },
   "file_extension": ".py",
   "mimetype": "text/x-python",
   "name": "python",
   "nbconvert_exporter": "python",
   "pygments_lexer": "ipython3",
   "version": "3.10.4"
  }
 },
 "nbformat": 4,
 "nbformat_minor": 5
}
